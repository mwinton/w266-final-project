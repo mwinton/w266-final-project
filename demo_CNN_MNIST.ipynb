{
 "cells": [
  {
   "cell_type": "markdown",
   "metadata": {},
   "source": [
    "## CNN on MNIST handwritten digits\n",
    "\n",
    "From (https://github.com/keras-team/keras/blob/master/examples/mnist_cnn.py)\n",
    "\n",
    "\"Trains a simple convnet on the MNIST dataset.\n",
    "Gets to 99.25% test accuracy after 12 epochs\n",
    "(there is still a lot of margin for parameter tuning).\n",
    "16 seconds per epoch on a GRID K520 GPU.\""
   ]
  },
  {
   "cell_type": "code",
   "execution_count": 8,
   "metadata": {},
   "outputs": [
    {
     "name": "stdout",
     "output_type": "stream",
     "text": [
      "Requirement already satisfied: graphviz==0.9 in /home/mwinton/anaconda3/lib/python3.6/site-packages (from -r requirements.pip (line 1)) (0.9)\n",
      "Requirement already satisfied: h5py==2.7.1 in /home/mwinton/anaconda3/lib/python3.6/site-packages (from -r requirements.pip (line 2)) (2.7.1)\n",
      "Requirement already satisfied: keras==2.2.4 in /home/mwinton/anaconda3/lib/python3.6/site-packages (from -r requirements.pip (line 3)) (2.2.4)\n",
      "Requirement already satisfied: keras-applications==1.0.6 in /home/mwinton/anaconda3/lib/python3.6/site-packages (from -r requirements.pip (line 4)) (1.0.6)\n",
      "Requirement already satisfied: keras-preprocessing==1.0.5 in /home/mwinton/anaconda3/lib/python3.6/site-packages (from -r requirements.pip (line 5)) (1.0.5)\n",
      "Requirement already satisfied: tensorboard==1.10.0 in /home/mwinton/anaconda3/lib/python3.6/site-packages (from -r requirements.pip (line 6)) (1.10.0)\n",
      "Requirement already satisfied: tensorflow==1.10.1 in /home/mwinton/anaconda3/lib/python3.6/site-packages (from -r requirements.pip (line 7)) (1.10.1)\n",
      "Requirement already satisfied: numpy>=1.7 in /home/mwinton/anaconda3/lib/python3.6/site-packages (from h5py==2.7.1->-r requirements.pip (line 2)) (1.14.3)\n",
      "Requirement already satisfied: six in /home/mwinton/anaconda3/lib/python3.6/site-packages (from h5py==2.7.1->-r requirements.pip (line 2)) (1.11.0)\n",
      "Requirement already satisfied: pyyaml in /home/mwinton/anaconda3/lib/python3.6/site-packages (from keras==2.2.4->-r requirements.pip (line 3)) (3.12)\n",
      "Requirement already satisfied: scipy>=0.14 in /home/mwinton/anaconda3/lib/python3.6/site-packages (from keras==2.2.4->-r requirements.pip (line 3)) (1.1.0)\n",
      "Requirement already satisfied: wheel>=0.26; python_version >= \"3\" in /home/mwinton/anaconda3/lib/python3.6/site-packages (from tensorboard==1.10.0->-r requirements.pip (line 6)) (0.31.1)\n",
      "Requirement already satisfied: protobuf>=3.4.0 in /home/mwinton/anaconda3/lib/python3.6/site-packages (from tensorboard==1.10.0->-r requirements.pip (line 6)) (3.6.1)\n",
      "Requirement already satisfied: werkzeug>=0.11.10 in /home/mwinton/anaconda3/lib/python3.6/site-packages (from tensorboard==1.10.0->-r requirements.pip (line 6)) (0.14.1)\n",
      "Requirement already satisfied: markdown>=2.6.8 in /home/mwinton/anaconda3/lib/python3.6/site-packages (from tensorboard==1.10.0->-r requirements.pip (line 6)) (2.6.11)\n",
      "Requirement already satisfied: grpcio>=1.8.6 in /home/mwinton/anaconda3/lib/python3.6/site-packages (from tensorflow==1.10.1->-r requirements.pip (line 7)) (1.14.2)\n",
      "Requirement already satisfied: termcolor>=1.1.0 in /home/mwinton/anaconda3/lib/python3.6/site-packages (from tensorflow==1.10.1->-r requirements.pip (line 7)) (1.1.0)\n",
      "Requirement already satisfied: absl-py>=0.1.6 in /home/mwinton/anaconda3/lib/python3.6/site-packages (from tensorflow==1.10.1->-r requirements.pip (line 7)) (0.4.1)\n",
      "Requirement already satisfied: gast>=0.2.0 in /home/mwinton/anaconda3/lib/python3.6/site-packages (from tensorflow==1.10.1->-r requirements.pip (line 7)) (0.2.0)\n",
      "Requirement already satisfied: setuptools<=39.1.0 in /home/mwinton/anaconda3/lib/python3.6/site-packages (from tensorflow==1.10.1->-r requirements.pip (line 7)) (39.1.0)\n",
      "Requirement already satisfied: astor>=0.6.0 in /home/mwinton/anaconda3/lib/python3.6/site-packages (from tensorflow==1.10.1->-r requirements.pip (line 7)) (0.7.1)\n"
     ]
    }
   ],
   "source": [
    "# Install required python packages if necessary\n",
    "import sys\n",
    "!{sys.executable} -m pip install -r requirements.pip"
   ]
  },
  {
   "cell_type": "code",
   "execution_count": 9,
   "metadata": {},
   "outputs": [],
   "source": [
    "from __future__ import print_function\n",
    "import keras\n",
    "from keras.datasets import mnist\n",
    "from keras.models import Sequential\n",
    "from keras.layers import Dense, Dropout, Flatten\n",
    "from keras.layers import Conv2D, MaxPooling2D\n",
    "from keras import backend as K"
   ]
  },
  {
   "cell_type": "code",
   "execution_count": 25,
   "metadata": {},
   "outputs": [],
   "source": [
    "batch_size = 128\n",
    "num_classes = 10\n",
    "epochs = 1  # for the sake of a demo\n",
    "\n",
    "# input image dimensions\n",
    "img_rows, img_cols = 28, 28\n",
    "\n",
    "# the data, split between train and test sets\n",
    "(x_train, y_train), (x_test, y_test) = mnist.load_data()"
   ]
  },
  {
   "cell_type": "code",
   "execution_count": 26,
   "metadata": {},
   "outputs": [
    {
     "name": "stdout",
     "output_type": "stream",
     "text": [
      "x_train shape: (60000, 28, 28, 1)\n",
      "60000 train samples\n",
      "10000 test samples\n"
     ]
    }
   ],
   "source": [
    "# preprocess\n",
    "if K.image_data_format() == 'channels_first':\n",
    "    x_train = x_train.reshape(x_train.shape[0], 1, img_rows, img_cols)\n",
    "    x_test = x_test.reshape(x_test.shape[0], 1, img_rows, img_cols)\n",
    "    input_shape = (1, img_rows, img_cols)\n",
    "else:\n",
    "    x_train = x_train.reshape(x_train.shape[0], img_rows, img_cols, 1)\n",
    "    x_test = x_test.reshape(x_test.shape[0], img_rows, img_cols, 1)\n",
    "    input_shape = (img_rows, img_cols, 1)\n",
    "\n",
    "x_train = x_train.astype('float32')\n",
    "x_test = x_test.astype('float32')\n",
    "x_train /= 255\n",
    "x_test /= 255\n",
    "print('x_train shape:', x_train.shape)\n",
    "print(x_train.shape[0], 'train samples')\n",
    "print(x_test.shape[0], 'test samples')"
   ]
  },
  {
   "cell_type": "code",
   "execution_count": 27,
   "metadata": {},
   "outputs": [],
   "source": [
    "# convert class vectors to binary class matrices\n",
    "y_train = keras.utils.to_categorical(y_train, num_classes)\n",
    "y_test = keras.utils.to_categorical(y_test, num_classes)"
   ]
  },
  {
   "cell_type": "code",
   "execution_count": 28,
   "metadata": {},
   "outputs": [],
   "source": [
    "# build model & prepare it for learning\n",
    "model = Sequential()\n",
    "model.add(Conv2D(32, kernel_size=(3, 3),\n",
    "                 activation='relu',\n",
    "                 input_shape=input_shape))\n",
    "model.add(Conv2D(64, (3, 3), activation='relu'))\n",
    "model.add(MaxPooling2D(pool_size=(2, 2)))\n",
    "model.add(Dropout(0.25))\n",
    "model.add(Flatten())\n",
    "model.add(Dense(128, activation='relu'))\n",
    "model.add(Dropout(0.5))\n",
    "model.add(Dense(num_classes, activation='softmax'))\n",
    "\n",
    "model.compile(loss=keras.losses.categorical_crossentropy,\n",
    "              optimizer=keras.optimizers.Adadelta(),\n",
    "              metrics=['accuracy'])"
   ]
  },
  {
   "cell_type": "code",
   "execution_count": 29,
   "metadata": {},
   "outputs": [
    {
     "name": "stdout",
     "output_type": "stream",
     "text": [
      "Train on 60000 samples, validate on 10000 samples\n",
      "Epoch 1/1\n",
      "60000/60000 [==============================] - 312s 5ms/step - loss: 0.2696 - acc: 0.9164 - val_loss: 0.0618 - val_acc: 0.9804\n"
     ]
    },
    {
     "data": {
      "text/plain": [
       "<keras.callbacks.History at 0x7fba98195518>"
      ]
     },
     "execution_count": 29,
     "metadata": {},
     "output_type": "execute_result"
    }
   ],
   "source": [
    "# train the model\n",
    "model.fit(x_train, y_train,\n",
    "          batch_size=batch_size,\n",
    "          epochs=epochs,\n",
    "          verbose=1,\n",
    "          validation_data=(x_test, y_test))"
   ]
  },
  {
   "cell_type": "code",
   "execution_count": 23,
   "metadata": {},
   "outputs": [
    {
     "name": "stdout",
     "output_type": "stream",
     "text": [
      "Test loss: 0.043\n",
      "Test accuracy: 0.986\n"
     ]
    }
   ],
   "source": [
    "# evaluate on test set\n",
    "loss_and_metrics = model.evaluate(x_test, y_test, verbose=0)\n",
    "\n",
    "print('Test loss: {:.3f}'.format(loss_and_metrics[0]))\n",
    "print('Test accuracy: {:.3f}'.format(loss_and_metrics[1]))"
   ]
  },
  {
   "cell_type": "code",
   "execution_count": null,
   "metadata": {},
   "outputs": [],
   "source": []
  }
 ],
 "metadata": {
  "kernelspec": {
   "display_name": "Python 3",
   "language": "python",
   "name": "python3"
  },
  "language_info": {
   "codemirror_mode": {
    "name": "ipython",
    "version": 3
   },
   "file_extension": ".py",
   "mimetype": "text/x-python",
   "name": "python",
   "nbconvert_exporter": "python",
   "pygments_lexer": "ipython3",
   "version": "3.6.5"
  }
 },
 "nbformat": 4,
 "nbformat_minor": 2
}
