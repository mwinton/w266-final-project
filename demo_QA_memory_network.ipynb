{
 "cells": [
  {
   "cell_type": "markdown",
   "metadata": {},
   "source": [
    "## Memory Network for QA with Facebook bAbI dataset\n",
    "\n",
    "From (https://github.com/keras-team/keras/blob/master/examples/babi_memnn.py)\n",
    "\n",
    "\"Trains a memory network on the bAbI dataset.\n",
    "\n",
    "References:\n",
    "- Jason Weston, Antoine Bordes, Sumit Chopra, Tomas Mikolov, Alexander M. Rush,\n",
    "  \"Towards AI-Complete Question Answering: A Set of Prerequisite Toy Tasks\",\n",
    "  http://arxiv.org/abs/1502.05698\n",
    "- Sainbayar Sukhbaatar, Arthur Szlam, Jason Weston, Rob Fergus,\n",
    "  \"End-To-End Memory Networks\",\n",
    "  http://arxiv.org/abs/1503.08895\n",
    "\n",
    "Reaches 98.6% accuracy on task 'single_supporting_fact_10k' after 120 epochs.\n",
    "Time per epoch: 3s on CPU (core i7).\""
   ]
  },
  {
   "cell_type": "code",
   "execution_count": null,
   "metadata": {},
   "outputs": [],
   "source": [
    "# Install required python packages if necessary\n",
    "import sys\n",
    "!{sys.executable} -m pip install -r requirements.pip"
   ]
  },
  {
   "cell_type": "code",
   "execution_count": 1,
   "metadata": {},
   "outputs": [
    {
     "name": "stderr",
     "output_type": "stream",
     "text": [
      "/home/mwinton/anaconda3/lib/python3.6/site-packages/h5py/__init__.py:36: FutureWarning: Conversion of the second argument of issubdtype from `float` to `np.floating` is deprecated. In future, it will be treated as `np.float64 == np.dtype(float).type`.\n",
      "  from ._conv import register_converters as _register_converters\n",
      "Using TensorFlow backend.\n"
     ]
    }
   ],
   "source": [
    "from __future__ import print_function\n",
    "\n",
    "from keras.models import Sequential, Model\n",
    "from keras.layers.embeddings import Embedding\n",
    "from keras.layers import Input, Activation, Dense, Permute, Dropout\n",
    "from keras.layers import add, dot, concatenate\n",
    "from keras.layers import LSTM\n",
    "from keras.utils.data_utils import get_file\n",
    "from keras.preprocessing.sequence import pad_sequences\n",
    "from functools import reduce\n",
    "import tarfile\n",
    "import numpy as np\n",
    "import re\n",
    "import os"
   ]
  },
  {
   "cell_type": "code",
   "execution_count": 12,
   "metadata": {},
   "outputs": [],
   "source": [
    "BATCH_SIZE = 32\n",
    "NUM_EPOCHS = 40   # was 120"
   ]
  },
  {
   "cell_type": "code",
   "execution_count": 3,
   "metadata": {},
   "outputs": [],
   "source": [
    "def tokenize(sent):\n",
    "    '''Return the tokens of a sentence including punctuation.\n",
    "    >>> tokenize('Bob dropped the apple. Where is the apple?')\n",
    "    ['Bob', 'dropped', 'the', 'apple', '.', 'Where', 'is', 'the', 'apple', '?']\n",
    "    '''\n",
    "    return [x.strip() for x in re.split('(\\W+)?', sent) if x.strip()]"
   ]
  },
  {
   "cell_type": "code",
   "execution_count": 4,
   "metadata": {},
   "outputs": [],
   "source": [
    "def parse_stories(lines, only_supporting=False):\n",
    "    '''Parse stories provided in the bAbi tasks format\n",
    "    If only_supporting is true, only the sentences\n",
    "    that support the answer are kept.\n",
    "    '''\n",
    "    data = []\n",
    "    story = []\n",
    "    for line in lines:\n",
    "        line = line.decode('utf-8').strip()\n",
    "        nid, line = line.split(' ', 1)\n",
    "        nid = int(nid)\n",
    "        if nid == 1:\n",
    "            story = []\n",
    "        if '\\t' in line:\n",
    "            q, a, supporting = line.split('\\t')\n",
    "            q = tokenize(q)\n",
    "            substory = None\n",
    "            if only_supporting:\n",
    "                # Only select the related substory\n",
    "                supporting = map(int, supporting.split())\n",
    "                substory = [story[i - 1] for i in supporting]\n",
    "            else:\n",
    "                # Provide all the substories\n",
    "                substory = [x for x in story if x]\n",
    "            data.append((substory, q, a))\n",
    "            story.append('')\n",
    "        else:\n",
    "            sent = tokenize(line)\n",
    "            story.append(sent)\n",
    "    return data\n"
   ]
  },
  {
   "cell_type": "code",
   "execution_count": 5,
   "metadata": {},
   "outputs": [],
   "source": [
    "def get_stories(f, only_supporting=False, max_length=None):\n",
    "    '''Given a file name, read the file,\n",
    "    retrieve the stories,\n",
    "    and then convert the sentences into a single story.\n",
    "    If max_length is supplied,\n",
    "    any stories longer than max_length tokens will be discarded.\n",
    "    '''\n",
    "    data = parse_stories(f.readlines(), only_supporting=only_supporting)\n",
    "    flatten = lambda data: reduce(lambda x, y: x + y, data)\n",
    "    data = [(flatten(story), q, answer) for story, q, answer in data\n",
    "            if not max_length or len(flatten(story)) < max_length]\n",
    "    return data"
   ]
  },
  {
   "cell_type": "code",
   "execution_count": 6,
   "metadata": {},
   "outputs": [],
   "source": [
    "def vectorize_stories(data):\n",
    "    inputs, queries, answers = [], [], []\n",
    "    for story, query, answer in data:\n",
    "        inputs.append([word_idx[w] for w in story])\n",
    "        queries.append([word_idx[w] for w in query])\n",
    "        answers.append(word_idx[answer])\n",
    "    return (pad_sequences(inputs, maxlen=story_maxlen),\n",
    "            pad_sequences(queries, maxlen=query_maxlen),\n",
    "            np.array(answers))"
   ]
  },
  {
   "cell_type": "code",
   "execution_count": 7,
   "metadata": {},
   "outputs": [
    {
     "name": "stdout",
     "output_type": "stream",
     "text": [
      "Downloading data from https://s3.amazonaws.com/text-datasets/babi_tasks_1-20_v1-2.tar.gz\n",
      "11747328/11745123 [==============================] - 5s 0us/step\n"
     ]
    }
   ],
   "source": [
    "\n",
    "try:\n",
    "    path = get_file('babi-tasks-v1-2.tar.gz',\n",
    "                    origin='https://s3.amazonaws.com/text-datasets/'\n",
    "                           'babi_tasks_1-20_v1-2.tar.gz')\n",
    "except:\n",
    "    print('Error downloading dataset, please download it manually:\\n'\n",
    "          '$ wget http://www.thespermwhale.com/jaseweston/babi/tasks_1-20_v1-2'\n",
    "          '.tar.gz\\n'\n",
    "          '$ mv tasks_1-20_v1-2.tar.gz ~/.keras/datasets/babi-tasks-v1-2.tar.gz')\n",
    "    raise\n",
    "\n",
    "\n",
    "challenges = {\n",
    "    # QA1 with 10,000 samples\n",
    "    'single_supporting_fact_10k': 'tasks_1-20_v1-2/en-10k/qa1_'\n",
    "                                  'single-supporting-fact_{}.txt',\n",
    "    # QA2 with 10,000 samples\n",
    "    'two_supporting_facts_10k': 'tasks_1-20_v1-2/en-10k/qa2_'\n",
    "                                'two-supporting-facts_{}.txt',\n",
    "}\n",
    "challenge_type = 'single_supporting_fact_10k'\n",
    "challenge = challenges[challenge_type]\n",
    "\n"
   ]
  },
  {
   "cell_type": "code",
   "execution_count": 8,
   "metadata": {},
   "outputs": [
    {
     "name": "stdout",
     "output_type": "stream",
     "text": [
      "Extracting stories for the challenge: single_supporting_fact_10k\n"
     ]
    },
    {
     "name": "stderr",
     "output_type": "stream",
     "text": [
      "/home/mwinton/anaconda3/lib/python3.6/re.py:212: FutureWarning: split() requires a non-empty pattern match.\n",
      "  return _compile(pattern, flags).split(string, maxsplit)\n"
     ]
    },
    {
     "name": "stdout",
     "output_type": "stream",
     "text": [
      "-\n",
      "Vocab size: 22 unique words\n",
      "Story max length: 68 words\n",
      "Query max length: 4 words\n",
      "Number of training stories: 10000\n",
      "Number of test stories: 1000\n",
      "-\n",
      "Here's what a \"story\" tuple looks like (input, query, answer):\n",
      "(['Mary', 'moved', 'to', 'the', 'bathroom', '.', 'John', 'went', 'to', 'the', 'hallway', '.'], ['Where', 'is', 'Mary', '?'], 'bathroom')\n",
      "-\n"
     ]
    }
   ],
   "source": [
    "print('Extracting stories for the challenge:', challenge_type)\n",
    "with tarfile.open(path) as tar:\n",
    "    train_stories = get_stories(tar.extractfile(challenge.format('train')))\n",
    "    test_stories = get_stories(tar.extractfile(challenge.format('test')))\n",
    "\n",
    "vocab = set()\n",
    "for story, q, answer in train_stories + test_stories:\n",
    "    vocab |= set(story + q + [answer])\n",
    "vocab = sorted(vocab)\n",
    "\n",
    "# Reserve 0 for masking via pad_sequences\n",
    "vocab_size = len(vocab) + 1\n",
    "story_maxlen = max(map(len, (x for x, _, _ in train_stories + test_stories)))\n",
    "query_maxlen = max(map(len, (x for _, x, _ in train_stories + test_stories)))\n",
    "\n",
    "print('-')\n",
    "print('Vocab size:', vocab_size, 'unique words')\n",
    "print('Story max length:', story_maxlen, 'words')\n",
    "print('Query max length:', query_maxlen, 'words')\n",
    "print('Number of training stories:', len(train_stories))\n",
    "print('Number of test stories:', len(test_stories))\n",
    "print('-')\n",
    "print('Here\\'s what a \"story\" tuple looks like (input, query, answer):')\n",
    "print(train_stories[0])\n",
    "print('-')"
   ]
  },
  {
   "cell_type": "code",
   "execution_count": 9,
   "metadata": {},
   "outputs": [
    {
     "name": "stdout",
     "output_type": "stream",
     "text": [
      "Vectorizing the word sequences...\n",
      "-\n",
      "inputs: integer tensor of shape (samples, max_length)\n",
      "inputs_train shape: (10000, 68)\n",
      "inputs_test shape: (1000, 68)\n",
      "-\n",
      "queries: integer tensor of shape (samples, max_length)\n",
      "queries_train shape: (10000, 4)\n",
      "queries_test shape: (1000, 4)\n",
      "-\n",
      "answers: binary (1 or 0) tensor of shape (samples, vocab_size)\n",
      "answers_train shape: (10000,)\n",
      "answers_test shape: (1000,)\n",
      "-\n"
     ]
    }
   ],
   "source": [
    "print('Vectorizing the word sequences...')\n",
    "\n",
    "word_idx = dict((c, i + 1) for i, c in enumerate(vocab))\n",
    "inputs_train, queries_train, answers_train = vectorize_stories(train_stories)\n",
    "inputs_test, queries_test, answers_test = vectorize_stories(test_stories)\n",
    "\n",
    "print('-')\n",
    "print('inputs: integer tensor of shape (samples, max_length)')\n",
    "print('inputs_train shape:', inputs_train.shape)\n",
    "print('inputs_test shape:', inputs_test.shape)\n",
    "print('-')\n",
    "print('queries: integer tensor of shape (samples, max_length)')\n",
    "print('queries_train shape:', queries_train.shape)\n",
    "print('queries_test shape:', queries_test.shape)\n",
    "print('-')\n",
    "print('answers: binary (1 or 0) tensor of shape (samples, vocab_size)')\n",
    "print('answers_train shape:', answers_train.shape)\n",
    "print('answers_test shape:', answers_test.shape)\n",
    "print('-')\n"
   ]
  },
  {
   "cell_type": "code",
   "execution_count": 10,
   "metadata": {},
   "outputs": [
    {
     "name": "stdout",
     "output_type": "stream",
     "text": [
      "Compiling...\n"
     ]
    }
   ],
   "source": [
    "print('Compiling...')\n",
    "\n",
    "# placeholders\n",
    "input_sequence = Input((story_maxlen,))\n",
    "question = Input((query_maxlen,))\n",
    "\n",
    "# encoders\n",
    "# embed the input sequence into a sequence of vectors\n",
    "input_encoder_m = Sequential()\n",
    "input_encoder_m.add(Embedding(input_dim=vocab_size,\n",
    "                              output_dim=64))\n",
    "input_encoder_m.add(Dropout(0.3))\n",
    "# output: (samples, story_maxlen, embedding_dim)\n",
    "\n",
    "# embed the input into a sequence of vectors of size query_maxlen\n",
    "input_encoder_c = Sequential()\n",
    "input_encoder_c.add(Embedding(input_dim=vocab_size,\n",
    "                              output_dim=query_maxlen))\n",
    "input_encoder_c.add(Dropout(0.3))\n",
    "# output: (samples, story_maxlen, query_maxlen)\n",
    "\n",
    "# embed the question into a sequence of vectors\n",
    "question_encoder = Sequential()\n",
    "question_encoder.add(Embedding(input_dim=vocab_size,\n",
    "                               output_dim=64,\n",
    "                               input_length=query_maxlen))\n",
    "question_encoder.add(Dropout(0.3))\n",
    "# output: (samples, query_maxlen, embedding_dim)\n",
    "\n",
    "# encode input sequence and questions (which are indices)\n",
    "# to sequences of dense vectors\n",
    "input_encoded_m = input_encoder_m(input_sequence)\n",
    "input_encoded_c = input_encoder_c(input_sequence)\n",
    "question_encoded = question_encoder(question)\n",
    "\n",
    "# compute a 'match' between the first input vector sequence\n",
    "# and the question vector sequence\n",
    "# shape: `(samples, story_maxlen, query_maxlen)`\n",
    "match = dot([input_encoded_m, question_encoded], axes=(2, 2))\n",
    "match = Activation('softmax')(match)\n",
    "\n",
    "# add the match matrix with the second input vector sequence\n",
    "response = add([match, input_encoded_c])  # (samples, story_maxlen, query_maxlen)\n",
    "response = Permute((2, 1))(response)  # (samples, query_maxlen, story_maxlen)\n",
    "\n",
    "# concatenate the match matrix with the question vector sequence\n",
    "answer = concatenate([response, question_encoded])\n",
    "\n",
    "# the original paper uses a matrix multiplication for this reduction step.\n",
    "# we choose to use a RNN instead.\n",
    "answer = LSTM(32)(answer)  # (samples, 32)\n",
    "\n",
    "# one regularization layer -- more would probably be needed.\n",
    "answer = Dropout(0.3)(answer)\n",
    "answer = Dense(vocab_size)(answer)  # (samples, vocab_size)\n",
    "# we output a probability distribution over the vocabulary\n",
    "answer = Activation('softmax')(answer)\n",
    "\n",
    "# build the final model\n",
    "model = Model([input_sequence, question], answer)\n",
    "model.compile(optimizer='rmsprop', loss='sparse_categorical_crossentropy',\n",
    "              metrics=['accuracy'])\n",
    "\n"
   ]
  },
  {
   "cell_type": "code",
   "execution_count": 13,
   "metadata": {},
   "outputs": [
    {
     "name": "stdout",
     "output_type": "stream",
     "text": [
      "Train on 10000 samples, validate on 1000 samples\n",
      "Epoch 1/40\n",
      "10000/10000 [==============================] - 5s 479us/step - loss: 1.7166 - acc: 0.2650 - val_loss: 1.5585 - val_acc: 0.3720\n",
      "Epoch 2/40\n",
      "10000/10000 [==============================] - 5s 480us/step - loss: 1.5357 - acc: 0.3830 - val_loss: 1.5029 - val_acc: 0.4190\n",
      "Epoch 3/40\n",
      "10000/10000 [==============================] - 5s 479us/step - loss: 1.5091 - acc: 0.4015 - val_loss: 1.4985 - val_acc: 0.3950\n",
      "Epoch 4/40\n",
      "10000/10000 [==============================] - 5s 484us/step - loss: 1.4891 - acc: 0.4135 - val_loss: 1.4700 - val_acc: 0.4350\n",
      "Epoch 5/40\n",
      "10000/10000 [==============================] - 5s 482us/step - loss: 1.4477 - acc: 0.4401 - val_loss: 1.4161 - val_acc: 0.4620\n",
      "Epoch 6/40\n",
      "10000/10000 [==============================] - 5s 480us/step - loss: 1.4079 - acc: 0.4534 - val_loss: 1.3627 - val_acc: 0.4850\n",
      "Epoch 7/40\n",
      "10000/10000 [==============================] - 5s 478us/step - loss: 1.3877 - acc: 0.4598 - val_loss: 1.3492 - val_acc: 0.4780\n",
      "Epoch 8/40\n",
      "10000/10000 [==============================] - 5s 480us/step - loss: 1.3694 - acc: 0.4703 - val_loss: 1.3350 - val_acc: 0.4900\n",
      "Epoch 9/40\n",
      "10000/10000 [==============================] - 5s 483us/step - loss: 1.3657 - acc: 0.4758 - val_loss: 1.3549 - val_acc: 0.4870\n",
      "Epoch 10/40\n",
      "10000/10000 [==============================] - 5s 481us/step - loss: 1.3413 - acc: 0.4886 - val_loss: 1.3045 - val_acc: 0.4890\n",
      "Epoch 11/40\n",
      "10000/10000 [==============================] - 5s 482us/step - loss: 1.3371 - acc: 0.4823 - val_loss: 1.2804 - val_acc: 0.4960\n",
      "Epoch 12/40\n",
      "10000/10000 [==============================] - 5s 497us/step - loss: 1.3012 - acc: 0.4947 - val_loss: 1.2481 - val_acc: 0.5110\n",
      "Epoch 13/40\n",
      "10000/10000 [==============================] - 5s 481us/step - loss: 1.2768 - acc: 0.4958 - val_loss: 1.2391 - val_acc: 0.5100\n",
      "Epoch 14/40\n",
      "10000/10000 [==============================] - 5s 480us/step - loss: 1.2649 - acc: 0.5002 - val_loss: 1.2347 - val_acc: 0.5220\n",
      "Epoch 15/40\n",
      "10000/10000 [==============================] - 5s 489us/step - loss: 1.2486 - acc: 0.5067 - val_loss: 1.2171 - val_acc: 0.5160\n",
      "Epoch 16/40\n",
      "10000/10000 [==============================] - 5s 479us/step - loss: 1.2421 - acc: 0.5028 - val_loss: 1.2273 - val_acc: 0.5040\n",
      "Epoch 17/40\n",
      "10000/10000 [==============================] - 5s 484us/step - loss: 1.2332 - acc: 0.5050 - val_loss: 1.2389 - val_acc: 0.5110\n",
      "Epoch 18/40\n",
      "10000/10000 [==============================] - 5s 509us/step - loss: 1.2257 - acc: 0.5067 - val_loss: 1.2025 - val_acc: 0.5280\n",
      "Epoch 19/40\n",
      "10000/10000 [==============================] - 5s 518us/step - loss: 1.2145 - acc: 0.5097 - val_loss: 1.2017 - val_acc: 0.5130\n",
      "Epoch 20/40\n",
      "10000/10000 [==============================] - 5s 545us/step - loss: 1.2116 - acc: 0.5116 - val_loss: 1.1990 - val_acc: 0.5370\n",
      "Epoch 21/40\n",
      "10000/10000 [==============================] - 6s 551us/step - loss: 1.2018 - acc: 0.5124 - val_loss: 1.1884 - val_acc: 0.5180\n",
      "Epoch 22/40\n",
      "10000/10000 [==============================] - 5s 500us/step - loss: 1.1962 - acc: 0.5142 - val_loss: 1.1956 - val_acc: 0.5180\n",
      "Epoch 23/40\n",
      "10000/10000 [==============================] - 5s 479us/step - loss: 1.1884 - acc: 0.5219 - val_loss: 1.1782 - val_acc: 0.5270\n",
      "Epoch 24/40\n",
      "10000/10000 [==============================] - 5s 484us/step - loss: 1.1814 - acc: 0.5216 - val_loss: 1.1909 - val_acc: 0.5240\n",
      "Epoch 25/40\n",
      "10000/10000 [==============================] - 5s 516us/step - loss: 1.1819 - acc: 0.5181 - val_loss: 1.2187 - val_acc: 0.5190\n",
      "Epoch 26/40\n",
      "10000/10000 [==============================] - 5s 514us/step - loss: 1.1715 - acc: 0.5205 - val_loss: 1.1812 - val_acc: 0.5190\n",
      "Epoch 27/40\n",
      "10000/10000 [==============================] - 5s 515us/step - loss: 1.1699 - acc: 0.5231 - val_loss: 1.1665 - val_acc: 0.5200\n",
      "Epoch 28/40\n",
      "10000/10000 [==============================] - 5s 521us/step - loss: 1.1661 - acc: 0.5254 - val_loss: 1.1779 - val_acc: 0.5230\n",
      "Epoch 29/40\n",
      "10000/10000 [==============================] - 5s 481us/step - loss: 1.1628 - acc: 0.5236 - val_loss: 1.1821 - val_acc: 0.5240\n",
      "Epoch 30/40\n",
      "10000/10000 [==============================] - 5s 479us/step - loss: 1.1533 - acc: 0.5260 - val_loss: 1.1804 - val_acc: 0.5340\n",
      "Epoch 31/40\n",
      "10000/10000 [==============================] - 5s 478us/step - loss: 1.1445 - acc: 0.5289 - val_loss: 1.1655 - val_acc: 0.5240\n",
      "Epoch 32/40\n",
      "10000/10000 [==============================] - 5s 478us/step - loss: 1.1425 - acc: 0.5321 - val_loss: 1.1644 - val_acc: 0.5200\n",
      "Epoch 33/40\n",
      "10000/10000 [==============================] - 5s 478us/step - loss: 1.1437 - acc: 0.5273 - val_loss: 1.1643 - val_acc: 0.5250\n",
      "Epoch 34/40\n",
      "10000/10000 [==============================] - 5s 510us/step - loss: 1.1347 - acc: 0.5305 - val_loss: 1.1594 - val_acc: 0.5330\n",
      "Epoch 35/40\n",
      "10000/10000 [==============================] - 5s 511us/step - loss: 1.1306 - acc: 0.5359 - val_loss: 1.1702 - val_acc: 0.5100\n",
      "Epoch 36/40\n",
      "10000/10000 [==============================] - 5s 489us/step - loss: 1.1166 - acc: 0.5374 - val_loss: 1.1640 - val_acc: 0.5140\n",
      "Epoch 37/40\n",
      "10000/10000 [==============================] - 5s 500us/step - loss: 1.1125 - acc: 0.5379 - val_loss: 1.1625 - val_acc: 0.5260\n",
      "Epoch 38/40\n",
      "10000/10000 [==============================] - 5s 483us/step - loss: 1.1131 - acc: 0.5375 - val_loss: 1.1910 - val_acc: 0.5130\n",
      "Epoch 39/40\n",
      "10000/10000 [==============================] - 5s 480us/step - loss: 1.0981 - acc: 0.5532 - val_loss: 1.1780 - val_acc: 0.5210\n",
      "Epoch 40/40\n",
      "10000/10000 [==============================] - 5s 481us/step - loss: 1.0898 - acc: 0.5570 - val_loss: 1.1372 - val_acc: 0.5340\n"
     ]
    },
    {
     "data": {
      "text/plain": [
       "<keras.callbacks.History at 0x7fed6528e0f0>"
      ]
     },
     "execution_count": 13,
     "metadata": {},
     "output_type": "execute_result"
    }
   ],
   "source": [
    "# train and validate\n",
    "model.fit([inputs_train, queries_train], answers_train,\n",
    "          batch_size=BATCH_SIZE,\n",
    "          epochs=NUM_EPOCHS,\n",
    "          verbose=1,\n",
    "          validation_data=([inputs_test, queries_test], answers_test))"
   ]
  },
  {
   "cell_type": "code",
   "execution_count": null,
   "metadata": {},
   "outputs": [],
   "source": []
  }
 ],
 "metadata": {
  "kernelspec": {
   "display_name": "Python 3",
   "language": "python",
   "name": "python3"
  },
  "language_info": {
   "codemirror_mode": {
    "name": "ipython",
    "version": 3
   },
   "file_extension": ".py",
   "mimetype": "text/x-python",
   "name": "python",
   "nbconvert_exporter": "python",
   "pygments_lexer": "ipython3",
   "version": "3.6.5"
  }
 },
 "nbformat": 4,
 "nbformat_minor": 2
}
