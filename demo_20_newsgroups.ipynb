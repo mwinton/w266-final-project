{
 "cells": [
  {
   "cell_type": "markdown",
   "metadata": {},
   "source": [
    "## 20 Newsgroup classification (fixed GloVe embeddings)\n",
    "\n",
    "From (https://github.com/keras-team/keras/blob/master/examples/pretrained_word_embeddings.py)\n",
    "\n",
    "\"This script loads pre-trained word embeddings (GloVe embeddings)\n",
    "into a frozen Keras Embedding layer, and uses it to\n",
    "train a text classification model on the 20 Newsgroup dataset\n",
    "(classification of newsgroup messages into 20 different categories).\n",
    "\n",
    "\n",
    "GloVe embedding data can be found at:\n",
    "http://nlp.stanford.edu/data/glove.6B.zip\n",
    "(source page: http://nlp.stanford.edu/projects/glove/)\n",
    "\n",
    "20 Newsgroup data can be found at:\n",
    "http://www.cs.cmu.edu/afs/cs.cmu.edu/project/theo-20/www/data/news20.html\""
   ]
  },
  {
   "cell_type": "code",
   "execution_count": 23,
   "metadata": {},
   "outputs": [
    {
     "name": "stdout",
     "output_type": "stream",
     "text": [
      "Requirement already satisfied: graphviz==0.9 in /home/mwinton/anaconda3/lib/python3.6/site-packages (from -r requirements.pip (line 1)) (0.9)\n",
      "Requirement already satisfied: h5py==2.7.1 in /home/mwinton/anaconda3/lib/python3.6/site-packages (from -r requirements.pip (line 2)) (2.7.1)\n",
      "Requirement already satisfied: keras==2.2.4 in /home/mwinton/anaconda3/lib/python3.6/site-packages (from -r requirements.pip (line 3)) (2.2.4)\n",
      "Requirement already satisfied: keras-applications==1.0.6 in /home/mwinton/anaconda3/lib/python3.6/site-packages (from -r requirements.pip (line 4)) (1.0.6)\n",
      "Requirement already satisfied: keras-preprocessing==1.0.5 in /home/mwinton/anaconda3/lib/python3.6/site-packages (from -r requirements.pip (line 5)) (1.0.5)\n",
      "Requirement already satisfied: tensorboard==1.10.0 in /home/mwinton/anaconda3/lib/python3.6/site-packages (from -r requirements.pip (line 6)) (1.10.0)\n",
      "Requirement already satisfied: tensorflow==1.10.1 in /home/mwinton/anaconda3/lib/python3.6/site-packages (from -r requirements.pip (line 7)) (1.10.1)\n",
      "Requirement already satisfied: numpy>=1.7 in /home/mwinton/anaconda3/lib/python3.6/site-packages (from h5py==2.7.1->-r requirements.pip (line 2)) (1.14.3)\n",
      "Requirement already satisfied: six in /home/mwinton/anaconda3/lib/python3.6/site-packages (from h5py==2.7.1->-r requirements.pip (line 2)) (1.11.0)\n",
      "Requirement already satisfied: scipy>=0.14 in /home/mwinton/anaconda3/lib/python3.6/site-packages (from keras==2.2.4->-r requirements.pip (line 3)) (1.1.0)\n",
      "Requirement already satisfied: pyyaml in /home/mwinton/anaconda3/lib/python3.6/site-packages (from keras==2.2.4->-r requirements.pip (line 3)) (3.12)\n",
      "Requirement already satisfied: werkzeug>=0.11.10 in /home/mwinton/anaconda3/lib/python3.6/site-packages (from tensorboard==1.10.0->-r requirements.pip (line 6)) (0.14.1)\n",
      "Requirement already satisfied: markdown>=2.6.8 in /home/mwinton/anaconda3/lib/python3.6/site-packages (from tensorboard==1.10.0->-r requirements.pip (line 6)) (2.6.11)\n",
      "Requirement already satisfied: protobuf>=3.4.0 in /home/mwinton/anaconda3/lib/python3.6/site-packages (from tensorboard==1.10.0->-r requirements.pip (line 6)) (3.6.1)\n",
      "Requirement already satisfied: wheel>=0.26; python_version >= \"3\" in /home/mwinton/anaconda3/lib/python3.6/site-packages (from tensorboard==1.10.0->-r requirements.pip (line 6)) (0.31.1)\n",
      "Requirement already satisfied: termcolor>=1.1.0 in /home/mwinton/anaconda3/lib/python3.6/site-packages (from tensorflow==1.10.1->-r requirements.pip (line 7)) (1.1.0)\n",
      "Requirement already satisfied: setuptools<=39.1.0 in /home/mwinton/anaconda3/lib/python3.6/site-packages (from tensorflow==1.10.1->-r requirements.pip (line 7)) (39.1.0)\n",
      "Requirement already satisfied: astor>=0.6.0 in /home/mwinton/anaconda3/lib/python3.6/site-packages (from tensorflow==1.10.1->-r requirements.pip (line 7)) (0.7.1)\n",
      "Requirement already satisfied: grpcio>=1.8.6 in /home/mwinton/anaconda3/lib/python3.6/site-packages (from tensorflow==1.10.1->-r requirements.pip (line 7)) (1.14.2)\n",
      "Requirement already satisfied: gast>=0.2.0 in /home/mwinton/anaconda3/lib/python3.6/site-packages (from tensorflow==1.10.1->-r requirements.pip (line 7)) (0.2.0)\n",
      "Requirement already satisfied: absl-py>=0.1.6 in /home/mwinton/anaconda3/lib/python3.6/site-packages (from tensorflow==1.10.1->-r requirements.pip (line 7)) (0.4.1)\n"
     ]
    }
   ],
   "source": [
    "# Install required python packages if necessary\n",
    "import sys\n",
    "!{sys.executable} -m pip install -r requirements.pip"
   ]
  },
  {
   "cell_type": "code",
   "execution_count": 24,
   "metadata": {},
   "outputs": [],
   "source": [
    "from __future__ import print_function\n",
    "\n",
    "import os\n",
    "import sys\n",
    "import numpy as np\n",
    "from keras.preprocessing.text import Tokenizer\n",
    "from keras.preprocessing.sequence import pad_sequences\n",
    "from keras.utils import to_categorical\n",
    "from keras.layers import Dense, Input, GlobalMaxPooling1D\n",
    "from keras.layers import Conv1D, MaxPooling1D, Embedding\n",
    "from keras.models import Model\n",
    "from keras.initializers import Constant"
   ]
  },
  {
   "cell_type": "code",
   "execution_count": 25,
   "metadata": {},
   "outputs": [],
   "source": [
    "BASE_DIR = os.environ['HOME']\n",
    "GLOVE_DIR = os.path.join(BASE_DIR, 'glove')\n",
    "TEXT_DATA_DIR = os.path.join(BASE_DIR, '20_newsgroup')\n",
    "MAX_SEQUENCE_LENGTH = 1000\n",
    "MAX_NUM_WORDS = 20000\n",
    "EMBEDDING_DIM = 50 # using the smaller embeddings\n",
    "VALIDATION_SPLIT = 0.2\n",
    "BATCH_SIZE = 128\n",
    "NUM_EPOCHS = 2"
   ]
  },
  {
   "cell_type": "code",
   "execution_count": 26,
   "metadata": {},
   "outputs": [
    {
     "name": "stdout",
     "output_type": "stream",
     "text": [
      "Indexing word vectors.\n",
      "Found 400000 word vectors.\n"
     ]
    }
   ],
   "source": [
    "# first, build index mapping words in the embeddings set\n",
    "# to their embedding vector\n",
    "\n",
    "print('Indexing word vectors.')\n",
    "\n",
    "embeddings_index = {}\n",
    "with open(os.path.join(GLOVE_DIR, 'glove.6B.50d.txt')) as f:  # start with the smaller set\n",
    "    for line in f:\n",
    "        values = line.split()\n",
    "        word = values[0]\n",
    "        coefs = np.asarray(values[1:], dtype='float32')\n",
    "        embeddings_index[word] = coefs\n",
    "\n",
    "print('Found %s word vectors.' % len(embeddings_index))\n"
   ]
  },
  {
   "cell_type": "code",
   "execution_count": 27,
   "metadata": {},
   "outputs": [
    {
     "name": "stdout",
     "output_type": "stream",
     "text": [
      "Processing text dataset\n",
      "Found 19997 texts.\n"
     ]
    }
   ],
   "source": [
    "# second, prepare text samples and their labels\n",
    "print('Processing text dataset')\n",
    "\n",
    "# need to traverse the file system to load the newsgroup data\n",
    "texts = []  # list of text samples\n",
    "labels_index = {}  # dictionary mapping label name to numeric id\n",
    "labels = []  # list of label ids\n",
    "for name in sorted(os.listdir(TEXT_DATA_DIR)):\n",
    "    path = os.path.join(TEXT_DATA_DIR, name)\n",
    "    if os.path.isdir(path):\n",
    "        label_id = len(labels_index)\n",
    "        labels_index[name] = label_id\n",
    "        for fname in sorted(os.listdir(path)):\n",
    "            if fname.isdigit():\n",
    "                fpath = os.path.join(path, fname)\n",
    "                args = {} if sys.version_info < (3,) else {'encoding': 'latin-1'}\n",
    "                with open(fpath, **args) as f:\n",
    "                    t = f.read()\n",
    "                    i = t.find('\\n\\n')  # skip header\n",
    "                    if 0 < i:\n",
    "                        t = t[i:]\n",
    "                    texts.append(t)\n",
    "                labels.append(label_id)\n",
    "\n",
    "print('Found %s texts.' % len(texts))\n"
   ]
  },
  {
   "cell_type": "code",
   "execution_count": 28,
   "metadata": {},
   "outputs": [
    {
     "name": "stdout",
     "output_type": "stream",
     "text": [
      "Found 174074 unique tokens.\n",
      "Shape of data tensor: (19997, 1000)\n",
      "Shape of label tensor: (19997, 20)\n"
     ]
    }
   ],
   "source": [
    "# finally, vectorize the text samples into a 2D integer tensor\n",
    "tokenizer = Tokenizer(num_words=MAX_NUM_WORDS)\n",
    "tokenizer.fit_on_texts(texts)\n",
    "sequences = tokenizer.texts_to_sequences(texts)\n",
    "\n",
    "word_index = tokenizer.word_index\n",
    "print('Found %s unique tokens.' % len(word_index))\n",
    "\n",
    "data = pad_sequences(sequences, maxlen=MAX_SEQUENCE_LENGTH)\n",
    "\n",
    "labels = to_categorical(np.asarray(labels))\n",
    "print('Shape of data tensor:', data.shape)\n",
    "print('Shape of label tensor:', labels.shape)\n"
   ]
  },
  {
   "cell_type": "code",
   "execution_count": 29,
   "metadata": {},
   "outputs": [],
   "source": [
    "# split the data into a training set and a validation set\n",
    "indices = np.arange(data.shape[0])\n",
    "np.random.shuffle(indices)\n",
    "data = data[indices]\n",
    "labels = labels[indices]\n",
    "num_validation_samples = int(VALIDATION_SPLIT * data.shape[0])\n",
    "\n",
    "x_train = data[:-num_validation_samples]\n",
    "y_train = labels[:-num_validation_samples]\n",
    "x_val = data[-num_validation_samples:]\n",
    "y_val = labels[-num_validation_samples:]"
   ]
  },
  {
   "cell_type": "code",
   "execution_count": 30,
   "metadata": {},
   "outputs": [
    {
     "name": "stdout",
     "output_type": "stream",
     "text": [
      "Preparing embedding matrix.\n"
     ]
    }
   ],
   "source": [
    "# prepare embedding matrix\n",
    "print('Preparing embedding matrix.')\n",
    "\n",
    "num_words = min(MAX_NUM_WORDS, len(word_index)) + 1\n",
    "embedding_matrix = np.zeros((num_words, EMBEDDING_DIM))\n",
    "for word, i in word_index.items():\n",
    "    if i > MAX_NUM_WORDS:\n",
    "        continue\n",
    "    embedding_vector = embeddings_index.get(word)\n",
    "    if embedding_vector is not None:\n",
    "        # words not found in embedding index will be all-zeros.\n",
    "        embedding_matrix[i] = embedding_vector\n",
    "\n",
    "# load pre-trained word embeddings into an Embedding layer\n",
    "# note that we set trainable = False so as to keep the embeddings fixed\n",
    "embedding_layer = Embedding(num_words,\n",
    "                            EMBEDDING_DIM,\n",
    "                            embeddings_initializer=Constant(embedding_matrix),\n",
    "                            input_length=MAX_SEQUENCE_LENGTH,\n",
    "                            trainable=False)"
   ]
  },
  {
   "cell_type": "code",
   "execution_count": 31,
   "metadata": {},
   "outputs": [],
   "source": [
    "# build and prepare the model for learning\n",
    "sequence_input = Input(shape=(MAX_SEQUENCE_LENGTH,), dtype='int32')\n",
    "embedded_sequences = embedding_layer(sequence_input)\n",
    "x = Conv1D(128, 5, activation='relu')(embedded_sequences)\n",
    "x = MaxPooling1D(5)(x)\n",
    "x = Conv1D(128, 5, activation='relu')(x)\n",
    "x = MaxPooling1D(5)(x)\n",
    "x = Conv1D(128, 5, activation='relu')(x)\n",
    "x = GlobalMaxPooling1D()(x)\n",
    "x = Dense(128, activation='relu')(x)\n",
    "preds = Dense(len(labels_index), activation='softmax')(x)\n",
    "\n",
    "model = Model(sequence_input, preds)\n",
    "model.compile(loss='categorical_crossentropy',\n",
    "              optimizer='rmsprop',\n",
    "              metrics=['acc'])"
   ]
  },
  {
   "cell_type": "code",
   "execution_count": 32,
   "metadata": {},
   "outputs": [
    {
     "name": "stdout",
     "output_type": "stream",
     "text": [
      "Training model.\n",
      "Train on 15998 samples, validate on 3999 samples\n",
      "Epoch 1/2\n",
      "15998/15998 [==============================] - 223s 14ms/step - loss: 2.4438 - acc: 0.1956 - val_loss: 1.8303 - val_acc: 0.3443\n",
      "Epoch 2/2\n",
      "15998/15998 [==============================] - 226s 14ms/step - loss: 1.6705 - acc: 0.4192 - val_loss: 1.6091 - val_acc: 0.4439\n"
     ]
    },
    {
     "data": {
      "text/plain": [
       "<keras.callbacks.History at 0x7ff600197240>"
      ]
     },
     "execution_count": 32,
     "metadata": {},
     "output_type": "execute_result"
    }
   ],
   "source": [
    "# train a 1D convnet with global maxpooling\n",
    "\n",
    "print('Training model.')\n",
    "\n",
    "model.fit(x_train, y_train,\n",
    "          batch_size=BATCH_SIZE,\n",
    "          epochs=NUM_EPOCHS,\n",
    "          validation_data=(x_val, y_val))"
   ]
  },
  {
   "cell_type": "code",
   "execution_count": null,
   "metadata": {},
   "outputs": [],
   "source": [
    "# evaluate on test set -- NOT CURRENTLY SET UP\n",
    "\n",
    "# loss_and_metrics = model.evaluate(x_test, y_test, verbose=0)\n",
    "# print('Test loss: {.2f}'.format(loss_and_metrics[0]))\n",
    "# print('Test accuracy: {.2f}'.format(loss_and_metrics[1]))"
   ]
  }
 ],
 "metadata": {
  "kernelspec": {
   "display_name": "Python 3",
   "language": "python",
   "name": "python3"
  },
  "language_info": {
   "codemirror_mode": {
    "name": "ipython",
    "version": 3
   },
   "file_extension": ".py",
   "mimetype": "text/x-python",
   "name": "python",
   "nbconvert_exporter": "python",
   "pygments_lexer": "ipython3",
   "version": "3.6.5"
  }
 },
 "nbformat": 4,
 "nbformat_minor": 2
}
