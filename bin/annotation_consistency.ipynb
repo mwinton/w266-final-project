{
 "cells": [
  {
   "cell_type": "code",
   "execution_count": 1,
   "metadata": {},
   "outputs": [],
   "source": [
    "from collections import Counter\n",
    "import json"
   ]
  },
  {
   "cell_type": "code",
   "execution_count": 2,
   "metadata": {},
   "outputs": [],
   "source": [
    "# Training annotations\n",
    "anno_path = '/home/mwinton/vqa_data/annotations/mscoco_train2014_annotations.json'"
   ]
  },
  {
   "cell_type": "code",
   "execution_count": 3,
   "metadata": {},
   "outputs": [],
   "source": [
    "with open(anno_path) as f:\n",
    "    annoj = json.load(f)\n"
   ]
  },
  {
   "cell_type": "code",
   "execution_count": 4,
   "metadata": {},
   "outputs": [
    {
     "data": {
      "text/plain": [
       "248349"
      ]
     },
     "execution_count": 4,
     "metadata": {},
     "output_type": "execute_result"
    }
   ],
   "source": [
    "total_questions = len(annoj['annotations'])\n",
    "total_questions"
   ]
  },
  {
   "cell_type": "code",
   "execution_count": 5,
   "metadata": {},
   "outputs": [
    {
     "data": {
      "text/plain": [
       "157453"
      ]
     },
     "execution_count": 5,
     "metadata": {},
     "output_type": "execute_result"
    }
   ],
   "source": [
    "non_unanimous = 0\n",
    "\n",
    "for question in annoj['annotations']:  # iterate through all questions\n",
    "    c = Counter()\n",
    "    answers = question['answers']      # iterate through the 10 human answeers (annotations) per question\n",
    "    for ans in answers:\n",
    "        c[ans['answer']] += 1\n",
    "#     print(c.most_common()[:1][0][1])\n",
    "    if len(c.most_common()) > 1:\n",
    "        non_unanimous += 1\n",
    "\n",
    "non_unanimous"
   ]
  },
  {
   "cell_type": "code",
   "execution_count": 6,
   "metadata": {},
   "outputs": [
    {
     "name": "stdout",
     "output_type": "stream",
     "text": [
      "Of 248349 total questions in the training set, 157453 were not unanimously answered by human raters (63.40%)\n"
     ]
    }
   ],
   "source": [
    "print('Of {} total questions in the training set, {} were not unanimously answered by human raters ({:.2f}%)' \\\n",
    "     .format(total_questions, non_unanimous, 100*non_unanimous/total_questions))"
   ]
  },
  {
   "cell_type": "code",
   "execution_count": 7,
   "metadata": {},
   "outputs": [
    {
     "data": {
      "text/plain": [
       "235533"
      ]
     },
     "execution_count": 7,
     "metadata": {},
     "output_type": "execute_result"
    }
   ],
   "source": [
    "three_in_agreement = 0\n",
    "\n",
    "for question in annoj['annotations']:  # iterate through all questions\n",
    "    c = Counter()\n",
    "    answers = question['answers']      # iterate through the 10 human answeers (annotations) per question\n",
    "    for ans in answers:\n",
    "        c[ans['answer']] += 1\n",
    "#     print(c.most_common()[:1][0][1])\n",
    "    if c.most_common() and c.most_common()[:1][0][1] >= 3:\n",
    "        three_in_agreement += 1\n",
    "    \n",
    "three_in_agreement"
   ]
  },
  {
   "cell_type": "code",
   "execution_count": 9,
   "metadata": {},
   "outputs": [
    {
     "name": "stdout",
     "output_type": "stream",
     "text": [
      "Of 248349 total questions in the training set, 235533 had at least 3 human raters in agreement (94.84%)\n"
     ]
    }
   ],
   "source": [
    "print('Of {} total questions in the training set, {} had at least 3 human raters in agreement ({:.2f}%)' \\\n",
    "     .format(total_questions, three_in_agreement, 100*three_in_agreement/total_questions))"
   ]
  },
  {
   "cell_type": "code",
   "execution_count": null,
   "metadata": {},
   "outputs": [],
   "source": []
  }
 ],
 "metadata": {
  "kernelspec": {
   "display_name": "Python 3",
   "language": "python",
   "name": "python3"
  },
  "language_info": {
   "codemirror_mode": {
    "name": "ipython",
    "version": 3
   },
   "file_extension": ".py",
   "mimetype": "text/x-python",
   "name": "python",
   "nbconvert_exporter": "python",
   "pygments_lexer": "ipython3",
   "version": "3.6.5"
  }
 },
 "nbformat": 4,
 "nbformat_minor": 2
}
