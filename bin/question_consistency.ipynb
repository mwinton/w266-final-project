{
 "cells": [
  {
   "cell_type": "code",
   "execution_count": 1,
   "metadata": {},
   "outputs": [],
   "source": [
    "from collections import Counter\n",
    "import json"
   ]
  },
  {
   "cell_type": "code",
   "execution_count": 2,
   "metadata": {},
   "outputs": [],
   "source": [
    "# Base Model (Top 1000 classification), with GCP-ordered VGG weights (ie. normal procedure)\n",
    "orig_path = '/home/mwinton/report_results/test2015_results_san_expt0_2018-12-06-05:05:51.json'\n",
    "\n",
    "# Best Model (Top 1000 classification), with GCP-ordered VGG weights (ie. normal procedure)\n",
    "enh_path = '/home/mwinton/report_results/test2015_results_mrr_san_expt28_2018-12-07-19:57:00.json'"
   ]
  },
  {
   "cell_type": "code",
   "execution_count": 3,
   "metadata": {},
   "outputs": [],
   "source": [
    "with open(orig_path) as f:\n",
    "    origj = json.load(f)\n",
    "\n",
    "with open(enh_path) as f:\n",
    "    enhj = json.load(f)\n"
   ]
  },
  {
   "cell_type": "code",
   "execution_count": 4,
   "metadata": {},
   "outputs": [
    {
     "name": "stdout",
     "output_type": "stream",
     "text": [
      "Original total: 52212\n",
      "Enhanced total: 52213\n"
     ]
    }
   ],
   "source": [
    "total_orig = len(origj)\n",
    "print('Original total:', total_orig)\n",
    "\n",
    "total_enh  = len(enhj)\n",
    "print('Enhanced total:', total_enh)"
   ]
  },
  {
   "cell_type": "code",
   "execution_count": 5,
   "metadata": {},
   "outputs": [
    {
     "data": {
      "text/plain": [
       "{'predicted_answer': 'frisbee',\n",
       " 'question_id': 978650,\n",
       " 'question_str': 'what # is it',\n",
       " 'question_type': 'what',\n",
       " 'complement_id': None,\n",
       " 'image_id': 97865,\n",
       " 'answer_id': 9786500,\n",
       " 'answer_str': '16',\n",
       " 'one_hot_index': 241,\n",
       " 'answer_type': 'number',\n",
       " 'annotations': ['16', '16', '16', '16', '16', '16', '16', '16', '16', '16']}"
      ]
     },
     "execution_count": 5,
     "metadata": {},
     "output_type": "execute_result"
    }
   ],
   "source": [
    "# example of dict format\n",
    "origj[0]"
   ]
  },
  {
   "cell_type": "code",
   "execution_count": 6,
   "metadata": {},
   "outputs": [
    {
     "data": {
      "text/plain": [
       "1"
      ]
     },
     "execution_count": 6,
     "metadata": {},
     "output_type": "execute_result"
    }
   ],
   "source": [
    "orig_qids = Counter()\n",
    "enh_qids = Counter()\n",
    "\n",
    "for i in origj:\n",
    "    orig_qids[i['question_id']] += 1\n",
    "    \n",
    "for i in enhj:\n",
    "    enh_qids[i['question_id']] += 1\n",
    "    \n",
    "orig_qids[4999400]"
   ]
  },
  {
   "cell_type": "code",
   "execution_count": 7,
   "metadata": {},
   "outputs": [
    {
     "name": "stdout",
     "output_type": "stream",
     "text": [
      "Original model\n",
      "Duplicates 0\n",
      "Once 52212\n",
      "0 0\n"
     ]
    }
   ],
   "source": [
    "multiples = 0\n",
    "once = 0\n",
    "zero = 0\n",
    "\n",
    "for q in orig_qids:\n",
    "    count = orig_qids[q]\n",
    "    if count > 1:\n",
    "        multiples += 1\n",
    "    elif count == 1:\n",
    "        once += 1\n",
    "    else:\n",
    "        zero += 1\n",
    "        \n",
    "print('Original model')\n",
    "print('Duplicates', multiples)\n",
    "print('Once', once)\n",
    "print('0', zero)"
   ]
  },
  {
   "cell_type": "code",
   "execution_count": 8,
   "metadata": {},
   "outputs": [
    {
     "name": "stdout",
     "output_type": "stream",
     "text": [
      "Enhanced model\n",
      "Duplicates 0\n",
      "Once 52213\n",
      "0 0\n"
     ]
    }
   ],
   "source": [
    "multiples = 0\n",
    "once = 0\n",
    "zero = 0\n",
    "\n",
    "for q in enh_qids:\n",
    "    count = enh_qids[q]\n",
    "    if count > 1:\n",
    "        multiples += 1\n",
    "    elif count == 1:\n",
    "        once += 1\n",
    "    else:\n",
    "        zero += 1\n",
    "        \n",
    "print('Enhanced model')\n",
    "print('Duplicates', multiples)\n",
    "print('Once', once)\n",
    "print('0', zero)"
   ]
  },
  {
   "cell_type": "code",
   "execution_count": 9,
   "metadata": {},
   "outputs": [
    {
     "name": "stdout",
     "output_type": "stream",
     "text": [
      "How many questions in the original test set are in the enhanced test set?\n",
      "Matched 52212\n",
      "Unmatched 0\n"
     ]
    }
   ],
   "source": [
    "matched = 0\n",
    "unmatched = 0\n",
    "\n",
    "for q in orig_qids:\n",
    "    if enh_qids.get(q, -1) != -1:\n",
    "        matched += 1\n",
    "    else:\n",
    "        unmatched += 1\n",
    "print('How many questions in the original test set are in the enhanced test set?')\n",
    "print('Matched', matched)\n",
    "print('Unmatched', unmatched)"
   ]
  },
  {
   "cell_type": "code",
   "execution_count": 10,
   "metadata": {},
   "outputs": [
    {
     "name": "stdout",
     "output_type": "stream",
     "text": [
      "How many questions in the enhanced test set are in the original test set?\n",
      "Matched 52212\n",
      "Unmatched 1\n"
     ]
    }
   ],
   "source": [
    "matched = 0\n",
    "unmatched = 0\n",
    "\n",
    "for q in enh_qids:\n",
    "    if orig_qids.get(q, -1) != -1:\n",
    "        matched += 1\n",
    "    else:\n",
    "        unmatched += 1\n",
    "print('How many questions in the enhanced test set are in the original test set?')\n",
    "print('Matched', matched)\n",
    "print('Unmatched', unmatched)"
   ]
  },
  {
   "cell_type": "code",
   "execution_count": null,
   "metadata": {},
   "outputs": [],
   "source": []
  }
 ],
 "metadata": {
  "kernelspec": {
   "display_name": "Python 3",
   "language": "python",
   "name": "python3"
  },
  "language_info": {
   "codemirror_mode": {
    "name": "ipython",
    "version": 3
   },
   "file_extension": ".py",
   "mimetype": "text/x-python",
   "name": "python",
   "nbconvert_exporter": "python",
   "pygments_lexer": "ipython3",
   "version": "3.6.5"
  }
 },
 "nbformat": 4,
 "nbformat_minor": 2
}
